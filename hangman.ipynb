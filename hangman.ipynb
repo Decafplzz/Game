{
 "cells": [
  {
   "cell_type": "code",
   "execution_count": 2,
   "id": "84efb464",
   "metadata": {},
   "outputs": [],
   "source": [
    "from random import *\n",
    "\n",
    "def Hangman():\n",
    "    words = ['espionage', 'plea', 'troop', 'ceasefire',\\\n",
    "    'infantry', 'tightrope', 'steadfast', 'allies', 'deportation', \\\n",
    "    'double down', 'persecute', 'paperwork', 'raid', 'tenant', 'evict', 'landlord', \\\n",
    "    'dismantle', 'ceil','abruptly', 'woodenbeam', 'abruptly', 'orderout', 'feuding', 'reconcile' ]\n",
    "\n",
    "    word = choice(words)\n",
    "\n",
    "    letters = \"\"\n",
    "\n",
    "\n",
    "    while True:\n",
    "        succeed = True\n",
    "        print()\n",
    "        for w in word:\n",
    "            if w in letters:\n",
    "                print(w, end='')\n",
    "            else:\n",
    "                print('_', end='')\n",
    "                succeed = False\n",
    "        print()\n",
    "\n",
    "        if succeed: \n",
    "            print('Success')\n",
    "            break\n",
    "        \n",
    "        \n",
    "        letter = input('input letters > ')\n",
    "        if letter not in letters:\n",
    "            letters += letter\n",
    "\n",
    "        if letter in word:\n",
    "            print('맞췄습니다 ~~~!~!~!~!~')\n",
    "        else:\n",
    "            print('ㅠ_ㅠ')"
   ]
  },
  {
   "cell_type": "code",
   "execution_count": 3,
   "id": "e63ec61e",
   "metadata": {},
   "outputs": [
    {
     "name": "stdout",
     "output_type": "stream",
     "text": [
      "\n",
      "_________\n",
      "input letters > f\n",
      "ㅠ_ㅠ\n",
      "\n",
      "_________\n",
      "input letters > e\n",
      "맞췄습니다 ~~~!~!~!~!~\n",
      "\n",
      "________e\n",
      "input letters > n\n",
      "맞췄습니다 ~~~!~!~!~!~\n",
      "\n",
      "_____n__e\n",
      "input letters > i\n",
      "맞췄습니다 ~~~!~!~!~!~\n",
      "\n",
      "_i___n__e\n",
      "input letters > l\n",
      "맞췄습니다 ~~~!~!~!~!~\n",
      "\n",
      "_i___n_le\n",
      "input letters > c\n",
      "ㅠ_ㅠ\n",
      "\n",
      "_i___n_le\n",
      "input letters > b\n",
      "ㅠ_ㅠ\n",
      "\n",
      "_i___n_le\n",
      "input letters > a\n",
      "맞췄습니다 ~~~!~!~!~!~\n",
      "\n",
      "_i__an_le\n",
      "input letters > d\n",
      "맞췄습니다 ~~~!~!~!~!~\n",
      "\n",
      "di__an_le\n",
      "input letters > s\n",
      "맞췄습니다 ~~~!~!~!~!~\n",
      "\n",
      "dis_an_le\n",
      "input letters > m\n",
      "맞췄습니다 ~~~!~!~!~!~\n",
      "\n",
      "disman_le\n",
      "input letters > t\n",
      "맞췄습니다 ~~~!~!~!~!~\n",
      "\n",
      "dismantle\n",
      "Success\n"
     ]
    }
   ],
   "source": [
    "Hangman()"
   ]
  },
  {
   "cell_type": "code",
   "execution_count": 4,
   "id": "df61658e",
   "metadata": {},
   "outputs": [
    {
     "name": "stdout",
     "output_type": "stream",
     "text": [
      "\n",
      "________\n",
      "input letters > e\n",
      "ㅠ_ㅠ\n",
      "\n",
      "________\n",
      "input letters > a\n",
      "맞췄습니다 ~~~!~!~!~!~\n",
      "\n",
      "___a____\n",
      "input letters >  f\n",
      "ㅠ_ㅠ\n",
      "\n",
      "__fa____\n",
      "input letters > \n",
      "맞췄습니다 ~~~!~!~!~!~\n",
      "\n",
      "__fa____\n",
      "input letters > n\n",
      "맞췄습니다 ~~~!~!~!~!~\n",
      "\n",
      "_nfan___\n",
      "input letters > i\n",
      "맞췄습니다 ~~~!~!~!~!~\n",
      "\n",
      "infan___\n",
      "input letters > t\n",
      "맞췄습니다 ~~~!~!~!~!~\n",
      "\n",
      "infant__\n",
      "input letters > o\n",
      "ㅠ_ㅠ\n",
      "\n",
      "infant__\n",
      "input letters > e\n",
      "ㅠ_ㅠ\n",
      "\n",
      "infant__\n",
      "input letters > r\n",
      "맞췄습니다 ~~~!~!~!~!~\n",
      "\n",
      "infantr_\n",
      "input letters > e\n",
      "ㅠ_ㅠ\n",
      "\n",
      "infantr_\n",
      "input letters > y\n",
      "맞췄습니다 ~~~!~!~!~!~\n",
      "\n",
      "infantry\n",
      "Success\n"
     ]
    }
   ],
   "source": [
    "Hangman()"
   ]
  },
  {
   "cell_type": "code",
   "execution_count": 5,
   "id": "2a5a780d",
   "metadata": {},
   "outputs": [
    {
     "name": "stdout",
     "output_type": "stream",
     "text": [
      "[WinError 2] 지정된 파일을 찾을 수 없습니다: 'mysite'\n",
      "C:\\Users\\user\n"
     ]
    }
   ],
   "source": [
    "cd mysite"
   ]
  }
 ],
 "metadata": {
  "kernelspec": {
   "display_name": "Python 3 (ipykernel)",
   "language": "python",
   "name": "python3"
  },
  "language_info": {
   "codemirror_mode": {
    "name": "ipython",
    "version": 3
   },
   "file_extension": ".py",
   "mimetype": "text/x-python",
   "name": "python",
   "nbconvert_exporter": "python",
   "pygments_lexer": "ipython3",
   "version": "3.11.4"
  }
 },
 "nbformat": 4,
 "nbformat_minor": 5
}
